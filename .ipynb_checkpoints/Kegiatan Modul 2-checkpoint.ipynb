{
 "cells": [
  {
   "cell_type": "markdown",
   "metadata": {
    "colab_type": "text",
    "id": "cB8_XX_yBLxo"
   },
   "source": [
    "# **Kegiatan Modul 2**"
   ]
  },
  {
   "cell_type": "markdown",
   "metadata": {
    "colab_type": "text",
    "id": "lMQTTVFGf9Gs"
   },
   "source": [
    "**Poin penilaian :**\n",
    "\n",
    "* Tingkat kesesuaian output program\n",
    "* Kerapian kode program\n",
    "* Kesederhanaan Kode"
   ]
  },
  {
   "cell_type": "markdown",
   "metadata": {
    "colab_type": "text",
    "id": "r7kUOn8_BjgW"
   },
   "source": [
    "## **Pandas**"
   ]
  },
  {
   "cell_type": "markdown",
   "metadata": {
    "colab_type": "text",
    "id": "JsPXA9WZBvHm"
   },
   "source": [
    "Kegiatan 1. **20 poin**\n",
    "\n",
    "Tampilkan informasi data summary imigran dari Continent Asia."
   ]
  },
  {
   "cell_type": "markdown",
   "metadata": {
    "colab_type": "text",
    "id": "5HJqQYoBGbu6"
   },
   "source": [
    "**Output:**\n",
    "\n",
    "<img src=\"https://i.ibb.co/mTKvJZv/Capture3.png\" height=300 align=\"center\">"
   ]
  },
  {
   "cell_type": "code",
   "execution_count": 9,
   "metadata": {
    "colab": {},
    "colab_type": "code",
    "id": "l3BxculeftZW"
   },
   "outputs": [
    {
     "name": "stdout",
     "output_type": "stream",
     "text": [
      "Data successfully read\n"
     ]
    },
    {
     "ename": "TypeError",
     "evalue": "'DataFrame' object is not callable",
     "output_type": "error",
     "traceback": [
      "\u001b[0;31m---------------------------------------------------------------------------\u001b[0m",
      "\u001b[0;31mTypeError\u001b[0m                                 Traceback (most recent call last)",
      "\u001b[0;32m<ipython-input-9-dc4bcb6e4b0c>\u001b[0m in \u001b[0;36m<module>\u001b[0;34m\u001b[0m\n\u001b[1;32m     10\u001b[0m \u001b[0mprint\u001b[0m \u001b[0;34m(\u001b[0m\u001b[0;34m'Data successfully read'\u001b[0m\u001b[0;34m)\u001b[0m\u001b[0;34m\u001b[0m\u001b[0;34m\u001b[0m\u001b[0m\n\u001b[1;32m     11\u001b[0m \u001b[0;34m\u001b[0m\u001b[0m\n\u001b[0;32m---> 12\u001b[0;31m \u001b[0mmask\u001b[0m \u001b[0;34m=\u001b[0m \u001b[0mdf_can\u001b[0m\u001b[0;34m(\u001b[0m\u001b[0;34m[\u001b[0m\u001b[0;34m'AreaName'\u001b[0m\u001b[0;34m]\u001b[0m \u001b[0;34m==\u001b[0m \u001b[0;34m'Asia'\u001b[0m\u001b[0;34m)\u001b[0m\u001b[0;34m\u001b[0m\u001b[0;34m\u001b[0m\u001b[0m\n\u001b[0m\u001b[1;32m     13\u001b[0m \u001b[0mz\u001b[0m \u001b[0;34m=\u001b[0m \u001b[0mdf_can\u001b[0m\u001b[0;34m.\u001b[0m\u001b[0mloc\u001b[0m\u001b[0;34m[\u001b[0m\u001b[0mmask\u001b[0m\u001b[0;34m]\u001b[0m\u001b[0;34m.\u001b[0m\u001b[0mdescribe\u001b[0m\u001b[0;34m(\u001b[0m\u001b[0;34m)\u001b[0m\u001b[0;34m\u001b[0m\u001b[0;34m\u001b[0m\u001b[0m\n",
      "\u001b[0;31mTypeError\u001b[0m: 'DataFrame' object is not callable"
     ]
    }
   ],
   "source": [
    "# TULIS CODE ANDA DISINI\n",
    "import numpy as np \n",
    "import pandas as pd\n",
    "\n",
    "df = pd.read_excel('https://s3-api.us-geo.objectstorage.softlayer.net/cf-courses-data/CognitiveClass/DV0101EN/labs/Data_Files/Canada.xlsx',\n",
    "                       sheet_name='Canada by Citizenship',\n",
    "                       skiprows=range(20),\n",
    "                       skipfooter=2)\n",
    "\n",
    "print ('Data successfully read')\n",
    "\n",
    "mask = df_can(['AreaName'] == 'Asia')\n",
    "z = df_can.loc[mask].describe()"
   ]
  },
  {
   "cell_type": "markdown",
   "metadata": {
    "colab_type": "text",
    "id": "4NfWNCwyBw3n"
   },
   "source": [
    "Kegiatan 2. **20 poin**\n",
    "\n",
    "Tampilkan data imigran negara Afganistan, China, Georgia, Iran, Nepal dan Sri Lankaselama periode tahun 2000 sampai 2010."
   ]
  },
  {
   "cell_type": "markdown",
   "metadata": {
    "colab_type": "text",
    "id": "yXPFgn1CH8kH"
   },
   "source": [
    "**Output:**\n",
    "\n",
    "<img src=\"https://i.ibb.co/19096PC/Capture4.png\" height=250 align=\"center\">"
   ]
  },
  {
   "cell_type": "code",
   "execution_count": null,
   "metadata": {
    "colab": {},
    "colab_type": "code",
    "id": "W1SrgCClf2ty"
   },
   "outputs": [],
   "source": [
    "# TULIS CODE ANDA DISINI\n",
    "import numpy as np \n",
    "import pandas as pd\n",
    "\n",
    "df_can = pd.read_excel('https://s3-api.us-geo.objectstorage.softlayer.net/cf-courses-data/CognitiveClass/DV0101EN/labs/Data_Files/Canada.xlsx',\n",
    "                       sheet_name='Canada by Citizenship',\n",
    "                       skiprows=range(20),\n",
    "                       skipfooter=2)\n",
    "\n",
    "print ('Data successfully read')\n",
    "\n",
    "asia = df(['AreaName'] == 'Asia')\n",
    "z =df.loc[asia].describe()"
   ]
  },
  {
   "cell_type": "markdown",
   "metadata": {
    "colab_type": "text",
    "id": "uCv_d7SKWkLO"
   },
   "source": [
    "Kegiatan 3: **20 poin**\n",
    "\n",
    "Benahi histogram pada modul materi agar dapat menampilkan informasi histogram yang tepat. Beri keterangan Label diagram, label x dan label y dengan benar sesuai pertanyaan dalam modul materi.\n",
    "\n",
    "Buat sedikit improvisasi histogram hingga dapat menampilkan histogram yang lebih baik dan unik lagi contoh seperti dibawah.\n",
    "\n",
    "<img src=\"https://i.imgur.com/bmoYLIK.png\" height=400 align=\"center\">"
   ]
  },
  {
   "cell_type": "code",
   "execution_count": 0,
   "metadata": {
    "colab": {},
    "colab_type": "code",
    "id": "DyzPZD3tf3l6"
   },
   "outputs": [],
   "source": [
    "# TULIS CODE ANDA DISINI"
   ]
  },
  {
   "cell_type": "markdown",
   "metadata": {
    "colab_type": "text",
    "id": "hhf02EYTZBGR"
   },
   "source": [
    "Kegiatan 4: **20 poin**\n",
    "\n",
    "Beri anotasi teks untuk label panah pada diagram batang pada modul materi."
   ]
  },
  {
   "cell_type": "markdown",
   "metadata": {
    "colab_type": "text",
    "id": "H93NUh6sZq90"
   },
   "source": [
    "### **Contoh Keluaran bar chart seperti dibawah:**\n",
    "\n",
    "<img src=\"https://i.imgur.com/Wkzty4n.png\" height=400 align=\"center\">"
   ]
  },
  {
   "cell_type": "code",
   "execution_count": 0,
   "metadata": {
    "colab": {},
    "colab_type": "code",
    "id": "aIuANY8hf4z7"
   },
   "outputs": [],
   "source": [
    "# TULIS CODE ANDA DISINI"
   ]
  },
  {
   "cell_type": "markdown",
   "metadata": {
    "colab_type": "text",
    "id": "CuCONfw2bWrw"
   },
   "source": [
    "Kegiatan 5: **20 poin**\n",
    "\n",
    "Perbaiki tampilan pie chart pada modul materi sehingga dapat menampilakan pie chart yang lebih informatif seperti pada contoh berikut."
   ]
  },
  {
   "cell_type": "markdown",
   "metadata": {
    "colab_type": "text",
    "id": "LOZl9F2dbcXT"
   },
   "source": [
    "<img src=\"https://i.imgur.com/bUNyqkm.png\" height=400 width=900 align=\"center\">"
   ]
  },
  {
   "cell_type": "code",
   "execution_count": 0,
   "metadata": {
    "colab": {},
    "colab_type": "code",
    "id": "bS2v3HVDbcp7"
   },
   "outputs": [],
   "source": [
    "# TULIS CODE ANDA DISINI"
   ]
  }
 ],
 "metadata": {
  "colab": {
   "authorship_tag": "ABX9TyOYjpiBkGbOKET5lF6vYkzE",
   "collapsed_sections": [],
   "name": "Kegiatan Modul 2.ipynb",
   "provenance": []
  },
  "kernelspec": {
   "display_name": "Python 3",
   "language": "python",
   "name": "python3"
  },
  "language_info": {
   "codemirror_mode": {
    "name": "ipython",
    "version": 3
   },
   "file_extension": ".py",
   "mimetype": "text/x-python",
   "name": "python",
   "nbconvert_exporter": "python",
   "pygments_lexer": "ipython3",
   "version": "3.7.3"
  }
 },
 "nbformat": 4,
 "nbformat_minor": 1
}
