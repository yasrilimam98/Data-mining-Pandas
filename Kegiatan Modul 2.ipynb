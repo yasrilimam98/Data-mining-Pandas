{
 "cells": [
  {
   "cell_type": "markdown",
   "metadata": {
    "colab_type": "text",
    "id": "cB8_XX_yBLxo"
   },
   "source": [
    "# **Kegiatan Modul 2**"
   ]
  },
  {
   "cell_type": "markdown",
   "metadata": {
    "colab_type": "text",
    "id": "lMQTTVFGf9Gs"
   },
   "source": [
    "**Poin penilaian :**\n",
    "\n",
    "* Tingkat kesesuaian output program\n",
    "* Kerapian kode program\n",
    "* Kesederhanaan Kode"
   ]
  },
  {
   "cell_type": "markdown",
   "metadata": {
    "colab_type": "text",
    "id": "r7kUOn8_BjgW"
   },
   "source": [
    "## **Pandas**"
   ]
  },
  {
   "cell_type": "markdown",
   "metadata": {
    "colab_type": "text",
    "id": "JsPXA9WZBvHm"
   },
   "source": [
    "Kegiatan 1. **20 poin**\n",
    "\n",
    "Tampilkan informasi data summary imigran dari Continent Asia."
   ]
  },
  {
   "cell_type": "markdown",
   "metadata": {
    "colab_type": "text",
    "id": "5HJqQYoBGbu6"
   },
   "source": [
    "**Output:**\n",
    "\n",
    "<img src=\"https://i.ibb.co/mTKvJZv/Capture3.png\" height=300 align=\"center\">"
   ]
  },
  {
   "cell_type": "code",
   "execution_count": 37,
   "metadata": {
    "colab": {},
    "colab_type": "code",
    "id": "l3BxculeftZW"
   },
   "outputs": [
    {
     "name": "stdout",
     "output_type": "stream",
     "text": [
      "Data successfully read\n"
     ]
    },
    {
     "data": {
      "text/html": [
       "<div>\n",
       "<style scoped>\n",
       "    .dataframe tbody tr th:only-of-type {\n",
       "        vertical-align: middle;\n",
       "    }\n",
       "\n",
       "    .dataframe tbody tr th {\n",
       "        vertical-align: top;\n",
       "    }\n",
       "\n",
       "    .dataframe thead th {\n",
       "        text-align: right;\n",
       "    }\n",
       "</style>\n",
       "<table border=\"1\" class=\"dataframe\">\n",
       "  <thead>\n",
       "    <tr style=\"text-align: right;\">\n",
       "      <th></th>\n",
       "      <th>1980</th>\n",
       "      <th>1981</th>\n",
       "      <th>1982</th>\n",
       "      <th>1983</th>\n",
       "      <th>1984</th>\n",
       "      <th>1985</th>\n",
       "      <th>1986</th>\n",
       "      <th>1987</th>\n",
       "      <th>1988</th>\n",
       "      <th>1989</th>\n",
       "      <th>...</th>\n",
       "      <th>2004</th>\n",
       "      <th>2005</th>\n",
       "      <th>2006</th>\n",
       "      <th>2007</th>\n",
       "      <th>2008</th>\n",
       "      <th>2009</th>\n",
       "      <th>2010</th>\n",
       "      <th>2011</th>\n",
       "      <th>2012</th>\n",
       "      <th>2013</th>\n",
       "    </tr>\n",
       "  </thead>\n",
       "  <tbody>\n",
       "    <tr>\n",
       "      <th>count</th>\n",
       "      <td>49.000000</td>\n",
       "      <td>49.000000</td>\n",
       "      <td>49.000000</td>\n",
       "      <td>49.000000</td>\n",
       "      <td>49.000000</td>\n",
       "      <td>49.000000</td>\n",
       "      <td>49.000000</td>\n",
       "      <td>49.000000</td>\n",
       "      <td>49.000000</td>\n",
       "      <td>49.000000</td>\n",
       "      <td>...</td>\n",
       "      <td>49.000000</td>\n",
       "      <td>49.000000</td>\n",
       "      <td>49.000000</td>\n",
       "      <td>49.000000</td>\n",
       "      <td>49.000000</td>\n",
       "      <td>49.000000</td>\n",
       "      <td>49.000000</td>\n",
       "      <td>49.000000</td>\n",
       "      <td>49.000000</td>\n",
       "      <td>49.000000</td>\n",
       "    </tr>\n",
       "    <tr>\n",
       "      <th>mean</th>\n",
       "      <td>633.163265</td>\n",
       "      <td>700.285714</td>\n",
       "      <td>616.612245</td>\n",
       "      <td>504.000000</td>\n",
       "      <td>556.612245</td>\n",
       "      <td>486.734694</td>\n",
       "      <td>586.510204</td>\n",
       "      <td>881.693878</td>\n",
       "      <td>968.448980</td>\n",
       "      <td>1229.714286</td>\n",
       "      <td>...</td>\n",
       "      <td>2752.040816</td>\n",
       "      <td>3250.061224</td>\n",
       "      <td>3041.918367</td>\n",
       "      <td>2723.653061</td>\n",
       "      <td>2854.979592</td>\n",
       "      <td>2886.408163</td>\n",
       "      <td>3343.775510</td>\n",
       "      <td>2997.836735</td>\n",
       "      <td>3106.489796</td>\n",
       "      <td>3164.795918</td>\n",
       "    </tr>\n",
       "    <tr>\n",
       "      <th>std</th>\n",
       "      <td>1661.461911</td>\n",
       "      <td>1744.233272</td>\n",
       "      <td>1467.264743</td>\n",
       "      <td>1318.140831</td>\n",
       "      <td>1445.529283</td>\n",
       "      <td>1143.511802</td>\n",
       "      <td>1297.589032</td>\n",
       "      <td>1958.170428</td>\n",
       "      <td>2162.020044</td>\n",
       "      <td>2517.307879</td>\n",
       "      <td>...</td>\n",
       "      <td>6896.738834</td>\n",
       "      <td>8297.960137</td>\n",
       "      <td>7239.607649</td>\n",
       "      <td>6262.448508</td>\n",
       "      <td>6736.704250</td>\n",
       "      <td>7027.488296</td>\n",
       "      <td>8280.593508</td>\n",
       "      <td>7506.042650</td>\n",
       "      <td>7936.783855</td>\n",
       "      <td>7928.384803</td>\n",
       "    </tr>\n",
       "    <tr>\n",
       "      <th>min</th>\n",
       "      <td>0.000000</td>\n",
       "      <td>0.000000</td>\n",
       "      <td>0.000000</td>\n",
       "      <td>0.000000</td>\n",
       "      <td>0.000000</td>\n",
       "      <td>0.000000</td>\n",
       "      <td>0.000000</td>\n",
       "      <td>0.000000</td>\n",
       "      <td>0.000000</td>\n",
       "      <td>0.000000</td>\n",
       "      <td>...</td>\n",
       "      <td>1.000000</td>\n",
       "      <td>0.000000</td>\n",
       "      <td>0.000000</td>\n",
       "      <td>2.000000</td>\n",
       "      <td>1.000000</td>\n",
       "      <td>5.000000</td>\n",
       "      <td>4.000000</td>\n",
       "      <td>3.000000</td>\n",
       "      <td>1.000000</td>\n",
       "      <td>1.000000</td>\n",
       "    </tr>\n",
       "    <tr>\n",
       "      <th>25%</th>\n",
       "      <td>0.000000</td>\n",
       "      <td>0.000000</td>\n",
       "      <td>0.000000</td>\n",
       "      <td>0.000000</td>\n",
       "      <td>0.000000</td>\n",
       "      <td>0.000000</td>\n",
       "      <td>0.000000</td>\n",
       "      <td>0.000000</td>\n",
       "      <td>0.000000</td>\n",
       "      <td>0.000000</td>\n",
       "      <td>...</td>\n",
       "      <td>38.000000</td>\n",
       "      <td>59.000000</td>\n",
       "      <td>46.000000</td>\n",
       "      <td>53.000000</td>\n",
       "      <td>36.000000</td>\n",
       "      <td>68.000000</td>\n",
       "      <td>86.000000</td>\n",
       "      <td>97.000000</td>\n",
       "      <td>68.000000</td>\n",
       "      <td>48.000000</td>\n",
       "    </tr>\n",
       "    <tr>\n",
       "      <th>50%</th>\n",
       "      <td>12.000000</td>\n",
       "      <td>6.000000</td>\n",
       "      <td>16.000000</td>\n",
       "      <td>16.000000</td>\n",
       "      <td>7.000000</td>\n",
       "      <td>17.000000</td>\n",
       "      <td>13.000000</td>\n",
       "      <td>16.000000</td>\n",
       "      <td>29.000000</td>\n",
       "      <td>44.000000</td>\n",
       "      <td>...</td>\n",
       "      <td>348.000000</td>\n",
       "      <td>392.000000</td>\n",
       "      <td>500.000000</td>\n",
       "      <td>460.000000</td>\n",
       "      <td>481.000000</td>\n",
       "      <td>431.000000</td>\n",
       "      <td>556.000000</td>\n",
       "      <td>381.000000</td>\n",
       "      <td>296.000000</td>\n",
       "      <td>288.000000</td>\n",
       "    </tr>\n",
       "    <tr>\n",
       "      <th>75%</th>\n",
       "      <td>315.000000</td>\n",
       "      <td>419.000000</td>\n",
       "      <td>409.000000</td>\n",
       "      <td>280.000000</td>\n",
       "      <td>338.000000</td>\n",
       "      <td>340.000000</td>\n",
       "      <td>486.000000</td>\n",
       "      <td>741.000000</td>\n",
       "      <td>828.000000</td>\n",
       "      <td>1269.000000</td>\n",
       "      <td>...</td>\n",
       "      <td>1796.000000</td>\n",
       "      <td>2065.000000</td>\n",
       "      <td>1827.000000</td>\n",
       "      <td>2401.000000</td>\n",
       "      <td>1784.000000</td>\n",
       "      <td>1746.000000</td>\n",
       "      <td>1831.000000</td>\n",
       "      <td>1879.000000</td>\n",
       "      <td>1614.000000</td>\n",
       "      <td>1945.000000</td>\n",
       "    </tr>\n",
       "    <tr>\n",
       "      <th>max</th>\n",
       "      <td>8880.000000</td>\n",
       "      <td>8670.000000</td>\n",
       "      <td>8147.000000</td>\n",
       "      <td>7338.000000</td>\n",
       "      <td>7583.000000</td>\n",
       "      <td>5907.000000</td>\n",
       "      <td>7150.000000</td>\n",
       "      <td>10189.000000</td>\n",
       "      <td>11522.000000</td>\n",
       "      <td>11865.000000</td>\n",
       "      <td>...</td>\n",
       "      <td>36619.000000</td>\n",
       "      <td>42584.000000</td>\n",
       "      <td>33848.000000</td>\n",
       "      <td>28742.000000</td>\n",
       "      <td>30037.000000</td>\n",
       "      <td>29622.000000</td>\n",
       "      <td>38617.000000</td>\n",
       "      <td>36765.000000</td>\n",
       "      <td>34315.000000</td>\n",
       "      <td>34129.000000</td>\n",
       "    </tr>\n",
       "  </tbody>\n",
       "</table>\n",
       "<p>8 rows × 34 columns</p>\n",
       "</div>"
      ],
      "text/plain": [
       "              1980         1981         1982         1983         1984  \\\n",
       "count    49.000000    49.000000    49.000000    49.000000    49.000000   \n",
       "mean    633.163265   700.285714   616.612245   504.000000   556.612245   \n",
       "std    1661.461911  1744.233272  1467.264743  1318.140831  1445.529283   \n",
       "min       0.000000     0.000000     0.000000     0.000000     0.000000   \n",
       "25%       0.000000     0.000000     0.000000     0.000000     0.000000   \n",
       "50%      12.000000     6.000000    16.000000    16.000000     7.000000   \n",
       "75%     315.000000   419.000000   409.000000   280.000000   338.000000   \n",
       "max    8880.000000  8670.000000  8147.000000  7338.000000  7583.000000   \n",
       "\n",
       "              1985         1986          1987          1988          1989  \\\n",
       "count    49.000000    49.000000     49.000000     49.000000     49.000000   \n",
       "mean    486.734694   586.510204    881.693878    968.448980   1229.714286   \n",
       "std    1143.511802  1297.589032   1958.170428   2162.020044   2517.307879   \n",
       "min       0.000000     0.000000      0.000000      0.000000      0.000000   \n",
       "25%       0.000000     0.000000      0.000000      0.000000      0.000000   \n",
       "50%      17.000000    13.000000     16.000000     29.000000     44.000000   \n",
       "75%     340.000000   486.000000    741.000000    828.000000   1269.000000   \n",
       "max    5907.000000  7150.000000  10189.000000  11522.000000  11865.000000   \n",
       "\n",
       "       ...          2004          2005          2006          2007  \\\n",
       "count  ...     49.000000     49.000000     49.000000     49.000000   \n",
       "mean   ...   2752.040816   3250.061224   3041.918367   2723.653061   \n",
       "std    ...   6896.738834   8297.960137   7239.607649   6262.448508   \n",
       "min    ...      1.000000      0.000000      0.000000      2.000000   \n",
       "25%    ...     38.000000     59.000000     46.000000     53.000000   \n",
       "50%    ...    348.000000    392.000000    500.000000    460.000000   \n",
       "75%    ...   1796.000000   2065.000000   1827.000000   2401.000000   \n",
       "max    ...  36619.000000  42584.000000  33848.000000  28742.000000   \n",
       "\n",
       "               2008          2009          2010          2011          2012  \\\n",
       "count     49.000000     49.000000     49.000000     49.000000     49.000000   \n",
       "mean    2854.979592   2886.408163   3343.775510   2997.836735   3106.489796   \n",
       "std     6736.704250   7027.488296   8280.593508   7506.042650   7936.783855   \n",
       "min        1.000000      5.000000      4.000000      3.000000      1.000000   \n",
       "25%       36.000000     68.000000     86.000000     97.000000     68.000000   \n",
       "50%      481.000000    431.000000    556.000000    381.000000    296.000000   \n",
       "75%     1784.000000   1746.000000   1831.000000   1879.000000   1614.000000   \n",
       "max    30037.000000  29622.000000  38617.000000  36765.000000  34315.000000   \n",
       "\n",
       "               2013  \n",
       "count     49.000000  \n",
       "mean    3164.795918  \n",
       "std     7928.384803  \n",
       "min        1.000000  \n",
       "25%       48.000000  \n",
       "50%      288.000000  \n",
       "75%     1945.000000  \n",
       "max    34129.000000  \n",
       "\n",
       "[8 rows x 34 columns]"
      ]
     },
     "execution_count": 37,
     "metadata": {},
     "output_type": "execute_result"
    }
   ],
   "source": [
    "# TULIS CODE ANDA DISINI\n",
    "import numpy as np \n",
    "import pandas as pd\n",
    "\n",
    "\n",
    "df_can = pd.read_excel('https://s3-api.us-geo.objectstorage.softlayer.net/cf-courses-data/CognitiveClass/DV0101EN/labs/Data_Files/Canada.xlsx',\n",
    "                       sheet_name='Canada by Citizenship',\n",
    "                      )\n",
    "print ('Data successfully read')\n",
    "\n",
    "\n",
    "df_can.drop(['AREA', 'REG', 'DEV'], axis=1, inplace=True)\n",
    "df_can.loc[df_can['AreaName'] == ('Asia')].describe()\n"
   ]
  },
  {
   "cell_type": "markdown",
   "metadata": {
    "colab_type": "text",
    "id": "4NfWNCwyBw3n"
   },
   "source": [
    "Kegiatan 2. **20 poin**\n",
    "\n",
    "Tampilkan data imigran negara Afganistan, China, Georgia, Iran, Nepal dan Sri Lankaselama periode tahun 2000 sampai 2010."
   ]
  },
  {
   "cell_type": "markdown",
   "metadata": {
    "colab_type": "text",
    "id": "yXPFgn1CH8kH"
   },
   "source": [
    "**Output:**\n",
    "\n",
    "<img src=\"https://i.ibb.co/19096PC/Capture4.png\" height=250 align=\"center\">"
   ]
  },
  {
   "cell_type": "code",
   "execution_count": 9,
   "metadata": {
    "colab": {},
    "colab_type": "code",
    "id": "W1SrgCClf2ty"
   },
   "outputs": [
    {
     "data": {
      "text/html": [
       "<div>\n",
       "<style scoped>\n",
       "    .dataframe tbody tr th:only-of-type {\n",
       "        vertical-align: middle;\n",
       "    }\n",
       "\n",
       "    .dataframe tbody tr th {\n",
       "        vertical-align: top;\n",
       "    }\n",
       "\n",
       "    .dataframe thead th {\n",
       "        text-align: right;\n",
       "    }\n",
       "</style>\n",
       "<table border=\"1\" class=\"dataframe\">\n",
       "  <thead>\n",
       "    <tr style=\"text-align: right;\">\n",
       "      <th></th>\n",
       "      <th>2000</th>\n",
       "      <th>2001</th>\n",
       "      <th>2002</th>\n",
       "      <th>2003</th>\n",
       "      <th>2004</th>\n",
       "      <th>2005</th>\n",
       "      <th>2006</th>\n",
       "      <th>2007</th>\n",
       "      <th>2008</th>\n",
       "      <th>2009</th>\n",
       "      <th>2010</th>\n",
       "    </tr>\n",
       "  </thead>\n",
       "  <tbody>\n",
       "    <tr>\n",
       "      <th>Afghanistan</th>\n",
       "      <td>3326</td>\n",
       "      <td>4067</td>\n",
       "      <td>3697</td>\n",
       "      <td>3479</td>\n",
       "      <td>2978</td>\n",
       "      <td>3436</td>\n",
       "      <td>3009</td>\n",
       "      <td>2652</td>\n",
       "      <td>2111</td>\n",
       "      <td>1746</td>\n",
       "      <td>1758</td>\n",
       "    </tr>\n",
       "    <tr>\n",
       "      <th>China</th>\n",
       "      <td>35529</td>\n",
       "      <td>36434</td>\n",
       "      <td>31961</td>\n",
       "      <td>36439</td>\n",
       "      <td>36619</td>\n",
       "      <td>42584</td>\n",
       "      <td>33518</td>\n",
       "      <td>27642</td>\n",
       "      <td>30037</td>\n",
       "      <td>29622</td>\n",
       "      <td>30391</td>\n",
       "    </tr>\n",
       "    <tr>\n",
       "      <th>Georgia</th>\n",
       "      <td>83</td>\n",
       "      <td>124</td>\n",
       "      <td>123</td>\n",
       "      <td>127</td>\n",
       "      <td>106</td>\n",
       "      <td>114</td>\n",
       "      <td>125</td>\n",
       "      <td>132</td>\n",
       "      <td>112</td>\n",
       "      <td>128</td>\n",
       "      <td>126</td>\n",
       "    </tr>\n",
       "    <tr>\n",
       "      <th>Iran (Islamic Republic of)</th>\n",
       "      <td>5884</td>\n",
       "      <td>6169</td>\n",
       "      <td>8129</td>\n",
       "      <td>5918</td>\n",
       "      <td>6348</td>\n",
       "      <td>5837</td>\n",
       "      <td>7480</td>\n",
       "      <td>6974</td>\n",
       "      <td>6475</td>\n",
       "      <td>6580</td>\n",
       "      <td>7477</td>\n",
       "    </tr>\n",
       "    <tr>\n",
       "      <th>Nepal</th>\n",
       "      <td>236</td>\n",
       "      <td>272</td>\n",
       "      <td>363</td>\n",
       "      <td>313</td>\n",
       "      <td>404</td>\n",
       "      <td>607</td>\n",
       "      <td>540</td>\n",
       "      <td>511</td>\n",
       "      <td>581</td>\n",
       "      <td>561</td>\n",
       "      <td>1392</td>\n",
       "    </tr>\n",
       "    <tr>\n",
       "      <th>Sri Lanka</th>\n",
       "      <td>6081</td>\n",
       "      <td>5861</td>\n",
       "      <td>5279</td>\n",
       "      <td>4892</td>\n",
       "      <td>4495</td>\n",
       "      <td>4930</td>\n",
       "      <td>4714</td>\n",
       "      <td>4123</td>\n",
       "      <td>4756</td>\n",
       "      <td>4547</td>\n",
       "      <td>4422</td>\n",
       "    </tr>\n",
       "  </tbody>\n",
       "</table>\n",
       "</div>"
      ],
      "text/plain": [
       "                             2000   2001   2002   2003   2004   2005   2006  \\\n",
       "Afghanistan                  3326   4067   3697   3479   2978   3436   3009   \n",
       "China                       35529  36434  31961  36439  36619  42584  33518   \n",
       "Georgia                        83    124    123    127    106    114    125   \n",
       "Iran (Islamic Republic of)   5884   6169   8129   5918   6348   5837   7480   \n",
       "Nepal                         236    272    363    313    404    607    540   \n",
       "Sri Lanka                    6081   5861   5279   4892   4495   4930   4714   \n",
       "\n",
       "                             2007   2008   2009   2010  \n",
       "Afghanistan                  2652   2111   1746   1758  \n",
       "China                       27642  30037  29622  30391  \n",
       "Georgia                       132    112    128    126  \n",
       "Iran (Islamic Republic of)   6974   6475   6580   7477  \n",
       "Nepal                         511    581    561   1392  \n",
       "Sri Lanka                    4123   4756   4547   4422  "
      ]
     },
     "execution_count": 9,
     "metadata": {},
     "output_type": "execute_result"
    }
   ],
   "source": [
    "df_can.set_index('OdName', inplace=True)\n",
    "df_can.index.name = None\n",
    "df_can.loc[['Afghanistan','China','Georgia','Iran (Islamic Republic of)','Nepal','Sri Lanka'],\n",
    "       range(2000, 2011)]"
   ]
  },
  {
   "cell_type": "markdown",
   "metadata": {
    "colab_type": "text",
    "id": "uCv_d7SKWkLO"
   },
   "source": [
    "Kegiatan 3: **20 poin**\n",
    "\n",
    "Benahi histogram pada modul materi agar dapat menampilkan informasi histogram yang tepat. Beri keterangan Label diagram, label x dan label y dengan benar sesuai pertanyaan dalam modul materi.\n",
    "\n",
    "Buat sedikit improvisasi histogram hingga dapat menampilkan histogram yang lebih baik dan unik lagi contoh seperti dibawah.\n",
    "\n",
    "<img src=\"https://i.imgur.com/bmoYLIK.png\" height=400 align=\"center\">"
   ]
  },
  {
   "cell_type": "code",
   "execution_count": 10,
   "metadata": {
    "colab": {},
    "colab_type": "code",
    "id": "DyzPZD3tf3l6"
   },
   "outputs": [
    {
     "name": "stdout",
     "output_type": "stream",
     "text": [
      "Data successfully read\n"
     ]
    },
    {
     "data": {
      "image/png": "[encoded data removed]",
      "text/plain": [
       "<Figure size 720x432 with 1 Axes>"
      ]
     },
     "metadata": {},
     "output_type": "display_data"
    }
   ],
   "source": [
    "# TULIS CODE ANDA DISINI\n",
    "%matplotlib inline \n",
    "\n",
    "import matplotlib as mpl\n",
    "import matplotlib.pyplot as plt\n",
    "\n",
    "\n",
    "mpl.style.use(['ggplot'])\n",
    "\n",
    "df_can = pd.read_excel('https://s3-api.us-geo.objectstorage.softlayer.net/cf-courses-data/CognitiveClass/DV0101EN/labs/Data_Files/Canada.xlsx',\n",
    "                       \n",
    "                      )\n",
    "print ('Data successfully read')\n",
    "\n",
    "\n",
    "df_can.drop(['AREA', 'REG', 'DEV', 'Type', 'Coverage'], axis=1, inplace=True)\n",
    "\n",
    "all(isinstance(column, str) for column in df_can.columns)\n",
    "\n",
    "df_can.columns = list(map(str, df_can.columns))\n",
    "\n",
    "all(isinstance(column, str) for column in df_can.columns)\n",
    "df_can.set_index('OdName', inplace=True)\n",
    "df_can['Total'] = df_can.sum(axis=1)\n",
    "years = list(map(str, range(1980, 2014)))\n",
    "df_can['2013'].head()\n",
    "\n",
    "#df_can.loc[df ['Continent'] == ('Asia')].describe()\n",
    "\n",
    "df_t = df_can.loc[['Denmark', 'Norway', 'Sweden'], years].transpose()\n",
    "\n",
    "\n",
    "count, bin_edges = np.histogram(df_t, 15)\n",
    "\n",
    "df_t.plot(kind ='hist', \n",
    "          figsize=(10, 6),\n",
    "          bins=15,\n",
    "          alpha=0.6,\n",
    "          xticks=bin_edges,\n",
    "          color=['coral', 'darkslateblue', 'mediumseagreen']\n",
    "         )\n",
    "\n",
    "plt.title('Histogram of Immigration from Denmark, Norway, and Sweden from 1980 - 2013')\n",
    "plt.ylabel('Number of Years')\n",
    "plt.xlabel('Number of Immigrants')\n",
    "\n",
    "plt.show()"
   ]
  },
  {
   "cell_type": "markdown",
   "metadata": {
    "colab_type": "text",
    "id": "hhf02EYTZBGR"
   },
   "source": [
    "Kegiatan 4: **20 poin**\n",
    "\n",
    "Beri anotasi teks untuk label panah pada diagram batang pada modul materi."
   ]
  },
  {
   "cell_type": "markdown",
   "metadata": {
    "colab_type": "text",
    "id": "H93NUh6sZq90"
   },
   "source": [
    "### **Contoh Keluaran bar chart seperti dibawah:**\n",
    "\n",
    "<img src=\"https://i.imgur.com/Wkzty4n.png\" height=400 align=\"center\">"
   ]
  },
  {
   "cell_type": "code",
   "execution_count": 11,
   "metadata": {
    "colab": {},
    "colab_type": "code",
    "id": "aIuANY8hf4z7"
   },
   "outputs": [
    {
     "data": {
      "image/png": "[encoded data removed]",
      "text/plain": [
       "<Figure size 720x432 with 1 Axes>"
      ]
     },
     "metadata": {},
     "output_type": "display_data"
    }
   ],
   "source": [
    "# TULIS CODE ANDA DISINI\n",
    "df_iceland = df_can.loc['Iceland', years]\n",
    "df_iceland.plot(kind='bar', figsize=(10, 6), rot=90) \n",
    " \n",
    "plt.xlabel('Year')\n",
    "plt.ylabel('Number of Immigrants')\n",
    "plt.title('Icelandic Immigrants to Canada from 1980 to 2013')\n",
    " \n",
    "# Annotate arrow\n",
    "plt.annotate('',                     \n",
    "             xy=(32, 70),             \n",
    "             xytext=(28, 20),         \n",
    "             xycoords='data',          \n",
    "             arrowprops=dict(arrowstyle='->', connectionstyle='arc3', color='blue', lw=2)\n",
    "            )\n",
    " \n",
    "# Annotate Text\n",
    "plt.annotate('2008 - 2011 Financial Crisis', \n",
    "             xy=(28, 30),                    \n",
    "             rotation=72.5,                 \n",
    "             va='bottom',                    \n",
    "             ha='left',                      \n",
    "            )\n",
    " \n",
    "plt.show()\n",
    " "
   ]
  },
  {
   "cell_type": "markdown",
   "metadata": {
    "colab_type": "text",
    "id": "CuCONfw2bWrw"
   },
   "source": [
    "Kegiatan 5: **20 poin**\n",
    "\n",
    "Perbaiki tampilan pie chart pada modul materi sehingga dapat menampilakan pie chart yang lebih informatif seperti pada contoh berikut."
   ]
  },
  {
   "cell_type": "markdown",
   "metadata": {
    "colab_type": "text",
    "id": "LOZl9F2dbcXT"
   },
   "source": [
    "<img src=\"https://i.imgur.com/bUNyqkm.png\" height=400 width=900 align=\"center\">"
   ]
  },
  {
   "cell_type": "code",
   "execution_count": 12,
   "metadata": {
    "colab": {},
    "colab_type": "code",
    "id": "bS2v3HVDbcp7"
   },
   "outputs": [
    {
     "data": {
      "image/png": "[encoded data removed]",
      "text/plain": [
       "<Figure size 1080x432 with 1 Axes>"
      ]
     },
     "metadata": {},
     "output_type": "display_data"
    }
   ],
   "source": [
    "# TULIS CODE ANDA DISINI\n",
    "\n",
    "df_continents = df_can.groupby('AreaName', axis=0).sum()\n",
    "colors_list = ['gold', 'yellowgreen', 'lightcoral', 'lightskyblue', 'lightgreen', 'pink']\n",
    "explode_list = [0.1, 0, 0, 0, 0.1, 0.1] \n",
    " \n",
    "df_continents['Total'].plot(kind='pie',\n",
    "                            figsize=(15, 6),\n",
    "                            autopct='%1.1f%%', \n",
    "                            startangle=90,    \n",
    "                            shadow=True,       \n",
    "                            labels=None,         \n",
    "                            pctdistance=1.12,    \n",
    "                            colors=colors_list,  \n",
    "                            explode=explode_list \n",
    "                            )\n",
    " \n",
    "\n",
    "plt.title('Immigration to Canada by Continent [1980 - 2013]', y=1.12) \n",
    " \n",
    "plt.axis('equal') \n",
    "\n",
    "plt.legend(labels=df_continents.index, loc='upper left') \n",
    " \n",
    "plt.show()"
   ]
  }
 ],
 "metadata": {
  "colab": {
   "authorship_tag": "ABX9TyOYjpiBkGbOKET5lF6vYkzE",
   "collapsed_sections": [],
   "name": "Kegiatan Modul 2.ipynb",
   "provenance": []
  },
  "kernelspec": {
   "display_name": "Python 3",
   "language": "python",
   "name": "python3"
  },
  "language_info": {
   "codemirror_mode": {
    "name": "ipython",
    "version": 3
   },
   "file_extension": ".py",
   "mimetype": "text/x-python",
   "name": "python",
   "nbconvert_exporter": "python",
   "pygments_lexer": "ipython3",
   "version": "3.7.3"
  }
 },
 "nbformat": 4,
 "nbformat_minor": 1
}
